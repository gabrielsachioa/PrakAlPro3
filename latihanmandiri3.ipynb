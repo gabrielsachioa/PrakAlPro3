{
 "cells": [
  {
   "cell_type": "markdown",
   "metadata": {},
   "source": [
    "# LATIHAN 3.1 BAGIAN 1"
   ]
  },
  {
   "cell_type": "code",
   "execution_count": 1,
   "metadata": {},
   "outputs": [
    {
     "name": "stdout",
     "output_type": "stream",
     "text": [
      "format yang Anda masukkan salah\n"
     ]
    }
   ],
   "source": [
    "input_suhu = input(\"Masukkan suhu tubuh: \")\n",
    "\n",
    "try:\n",
    "\n",
    "    suhu = int(input_suhu)\n",
    "\n",
    "    if suhu >= 38:\n",
    "        print(\"Anda demam\")\n",
    "    else:\n",
    "        print(\"Anda tidak demam\")\n",
    "\n",
    "except:\n",
    "    print(\"format yang Anda masukkan salah\")\n"
   ]
  },
  {
   "cell_type": "markdown",
   "metadata": {},
   "source": [
    "# LATIHAN 3.1 BAGIAN 2"
   ]
  },
  {
   "cell_type": "code",
   "execution_count": 2,
   "metadata": {},
   "outputs": [
    {
     "name": "stdout",
     "output_type": "stream",
     "text": [
      "Format yang Anda masukkan salah\n"
     ]
    }
   ],
   "source": [
    "input_bilangan = input(\"Masukkan suatu bilangan: \")\n",
    "\n",
    "try:\n",
    "    bilangan = int(input_bilangan)\n",
    "\n",
    "    if bilangan == 0:\n",
    "        print(\"Nol\")\n",
    "    elif bilangan > 0:\n",
    "        print(\"Positif\")\n",
    "    elif bilangan < 0:\n",
    "        print(\"Negatif\")\n",
    "except:\n",
    "    print(\"Format yang Anda masukkan salah\")"
   ]
  },
  {
   "cell_type": "markdown",
   "metadata": {},
   "source": [
    "# LATIHAN 3.1 BAGIAN 3"
   ]
  },
  {
   "cell_type": "code",
   "execution_count": 3,
   "metadata": {},
   "outputs": [
    {
     "name": "stdout",
     "output_type": "stream",
     "text": [
      "Format bilangan a, b, atau c salah\n"
     ]
    }
   ],
   "source": [
    "input_a = input(\"Masukkan bilangan pertama: \")\n",
    "input_b = input(\"Masukkan bilangan kedua: \")\n",
    "input_c = input(\"Masukkan bilangan ketiga: \")\n",
    "\n",
    "try:\n",
    "\n",
    "    a = int(input_a)\n",
    "    b = int(input_b)\n",
    "    c = int(input_c)\n",
    "\n",
    "    if a > b and a > c:\n",
    "        print(\"Terbesar: \", a)\n",
    "    elif b > a and b > c:\n",
    "        print(\"Terbesar: \", b)\n",
    "    elif c > a and c > b:\n",
    "        print(\"Terbesar: \", c)\n",
    "\n",
    "except:\n",
    "    print(\"Format bilangan a, b, atau c salah\")"
   ]
  },
  {
   "cell_type": "markdown",
   "metadata": {},
   "source": [
    "# LATIHAN 3.2"
   ]
  },
  {
   "cell_type": "code",
   "execution_count": 5,
   "metadata": {},
   "outputs": [
    {
     "name": "stdout",
     "output_type": "stream",
     "text": [
      "Nol\n"
     ]
    }
   ],
   "source": [
    "bilangan = int(input(\"Masukkan suatu bilangan: \"))\n",
    "print('Positif') if bilangan > 0  else (print('Negatif') if bilangan < 0 else print('Nol'))"
   ]
  },
  {
   "cell_type": "markdown",
   "metadata": {},
   "source": [
    "# LATIHAN 3.3"
   ]
  },
  {
   "cell_type": "code",
   "execution_count": 6,
   "metadata": {},
   "outputs": [
    {
     "name": "stdout",
     "output_type": "stream",
     "text": [
      "Jumlah hari: 31\n"
     ]
    }
   ],
   "source": [
    "input_bulan = input(\"Masukkan bulan(1-12): \")\n",
    "\n",
    "\n",
    "try:\n",
    "    bulan = int(input_bulan)\n",
    "    tahun = 2020\n",
    "\n",
    "    bulan_hari31 = 1, 3, 5, 7, 8, 10, 12\n",
    "    bulan_hari30 = 4, 6, 9, 11\n",
    "\n",
    "    if bulan in bulan_hari31:\n",
    "        print(\"Jumlah hari: 31\")\n",
    "    elif bulan == 2:\n",
    "        if (tahun % 400 == 0 or (tahun % 4 == 0 and not tahun % 100 == 0)):\n",
    "            print(\"Jumlah hari: 29\")\n",
    "        else:\n",
    "            print(\"Jumlah hari: 28\")\n",
    "    elif bulan in bulan_hari30:\n",
    "        print(\"Jumlah hari: 30\")\n",
    "    else:\n",
    "        print(\"Bulan yang Anda masukkan salah\")\n",
    "\n",
    "except:\n",
    "    print(\"Format yang Anda masukkan salah\")"
   ]
  },
  {
   "cell_type": "markdown",
   "metadata": {},
   "source": [
    "# LATIHAN 3.4"
   ]
  },
  {
   "cell_type": "code",
   "execution_count": 7,
   "metadata": {},
   "outputs": [
    {
     "name": "stdout",
     "output_type": "stream",
     "text": [
      "2 sisi sama\n"
     ]
    }
   ],
   "source": [
    "input_sisi1 = input(\"Masukkan sisi 1: \")\n",
    "input_sisi2 = input(\"Masukkan sisi 2: \")\n",
    "input_sisi3 = input(\"Masukkan sisi 3: \")\n",
    "\n",
    "try:\n",
    "    sisi_1 = int(input_sisi1)\n",
    "    sisi_2 = int(input_sisi2)\n",
    "    sisi_3 = int(input_sisi3)\n",
    "\n",
    "    if(sisi_1 == sisi_2 == sisi_3):\n",
    "        print(\"3 sisi sama\")\n",
    "    elif(sisi_1 == sisi_2 != sisi_3) or (sisi_1 != sisi_2 == sisi_3) or (sisi_1 == sisi_3 != sisi_2):\n",
    "        print(\"2 sisi sama\")\n",
    "    else:\n",
    "        print(\"Tidak ada yang sama\")\n",
    "\n",
    "except:\n",
    "    print(\"Format sisi 1, 2, atau 3 salah\")"
   ]
  }
 ],
 "metadata": {
  "kernelspec": {
   "display_name": "Python 3",
   "language": "python",
   "name": "python3"
  },
  "language_info": {
   "codemirror_mode": {
    "name": "ipython",
    "version": 3
   },
   "file_extension": ".py",
   "mimetype": "text/x-python",
   "name": "python",
   "nbconvert_exporter": "python",
   "pygments_lexer": "ipython3",
   "version": "3.12.0"
  }
 },
 "nbformat": 4,
 "nbformat_minor": 2
}
